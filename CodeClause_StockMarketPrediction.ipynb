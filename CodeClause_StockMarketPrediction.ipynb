{
  "metadata": {
    "kernelspec": {
      "language": "python",
      "display_name": "Python 3",
      "name": "python3"
    },
    "language_info": {
      "name": "python",
      "version": "3.7.10",
      "mimetype": "text/x-python",
      "codemirror_mode": {
        "name": "ipython",
        "version": 3
      },
      "pygments_lexer": "ipython3",
      "nbconvert_exporter": "python",
      "file_extension": ".py"
    },
    "colab": {
      "provenance": []
    }
  },
  "nbformat_minor": 0,
  "nbformat": 4,
  "cells": [
    {
      "cell_type": "code",
      "source": [
        "import pandas_datareader as pdr\n",
        "key=\"7c6f1a4177376c127885e6e953e985d05d975a4a\""
      ],
      "metadata": {
        "execution": {
          "iopub.status.busy": "2023-07-04T11:42:01.006197Z",
          "iopub.execute_input": "2023-07-04T11:42:01.006594Z",
          "iopub.status.idle": "2023-07-04T11:42:03.662698Z",
          "shell.execute_reply.started": "2023-07-04T11:42:01.006512Z",
          "shell.execute_reply": "2023-07-04T11:42:03.661519Z"
        },
        "trusted": true,
        "id": "7PHl2uGFN10c"
      },
      "execution_count": 3,
      "outputs": []
    },
    {
      "cell_type": "markdown",
      "source": [
        "<a name=\"dataset\"></a>\n",
        "### Import dataset"
      ],
      "metadata": {
        "id": "E3MsJlJ2N10l"
      }
    },
    {
      "cell_type": "code",
      "source": [
        "df1=pd.read_csv('data.csv')\n"
      ],
      "metadata": {
        "id": "-_VBFS3LQThI"
      },
      "execution_count": 7,
      "outputs": []
    },
    {
      "cell_type": "markdown",
      "source": [
        "<a name=\"cname\"></a>\n",
        "### Rename columns"
      ],
      "metadata": {
        "id": "ZYkSJgjwN10v"
      }
    },
    {
      "cell_type": "code",
      "source": [
        "import matplotlib.pyplot as plt\n",
        "plt.plot(df1,color='orange')\n"
      ],
      "metadata": {
        "execution": {
          "iopub.status.busy": "2023-07-04T11:42:03.701816Z",
          "iopub.execute_input": "2023-07-04T11:42:03.702075Z",
          "iopub.status.idle": "2023-07-04T11:42:03.716703Z",
          "shell.execute_reply.started": "2023-07-04T11:42:03.702051Z",
          "shell.execute_reply": "2023-07-04T11:42:03.715802Z"
        },
        "trusted": true,
        "colab": {
          "base_uri": "https://localhost:8080/",
          "height": 447
        },
        "id": "PXtK6H6HN10w",
        "outputId": "4ccdffa0-65dd-440d-b285-5ffe4ff1bee1"
      },
      "execution_count": 20,
      "outputs": [
        {
          "output_type": "execute_result",
          "data": {
            "text/plain": [
              "[<matplotlib.lines.Line2D at 0x7f966ccf4280>]"
            ]
          },
          "metadata": {},
          "execution_count": 20
        },
        {
          "output_type": "display_data",
          "data": {
            "text/plain": [
              "<Figure size 640x480 with 1 Axes>"
            ],
            "image/png": "[encoded data removed]"
          },
          "metadata": {}
        }
      ]
    },
    {
      "cell_type": "markdown",
      "source": [
        "<a name=\"dateformat\"></a>\n",
        "\n",
        "### Convert date from string to date format"
      ],
      "metadata": {
        "id": "ZfDp4BeKN10x"
      }
    },
    {
      "cell_type": "code",
      "source": [
        "import numpy as np\n",
        "from sklearn.preprocessing import MinMaxScaler\n",
        "scaler=MinMaxScaler(feature_range=(0,1))\n",
        "df1=scaler.fit_transform(np.array(df1).reshape(-1,1))\n",
        "df1"
      ],
      "metadata": {
        "execution": {
          "iopub.status.busy": "2023-07-04T11:42:03.717920Z",
          "iopub.execute_input": "2023-07-04T11:42:03.718242Z",
          "iopub.status.idle": "2023-07-04T11:42:03.814033Z",
          "shell.execute_reply.started": "2023-07-04T11:42:03.718208Z",
          "shell.execute_reply": "2023-07-04T11:42:03.813234Z"
        },
        "trusted": true,
        "colab": {
          "base_uri": "https://localhost:8080/"
        },
        "id": "2qPCcvaXN10y",
        "outputId": "bc0edd3b-d2e9-48a5-f04b-4404aabf8330"
      },
      "execution_count": 9,
      "outputs": [
        {
          "output_type": "execute_result",
          "data": {
            "text/plain": [
              "array([[0.20320601],\n",
              "       [0.20974327],\n",
              "       [0.20916719],\n",
              "       ...,\n",
              "       [0.20726362],\n",
              "       [0.21823419],\n",
              "       [0.2144521 ]])"
            ]
          },
          "metadata": {},
          "execution_count": 9
        }
      ]
    },
    {
      "cell_type": "code",
      "source": [
        "training_size=int(len(df1)*0.65)\n",
        "test_size=len(df1)-training_size\n",
        "train_data,test_data=df1[0:training_size,:],df1[training_size:len(df1),:1]\n"
      ],
      "metadata": {
        "id": "9goICCrtQ59O"
      },
      "execution_count": 10,
      "outputs": []
    },
    {
      "cell_type": "code",
      "source": [
        "import numpy\n",
        "def create_dataset(dataset, time_step=1):\n",
        "\tdataX, dataY = [], []\n",
        "\tfor i in range(len(dataset)-time_step-1):\n",
        "\t\ta = dataset[i:(i+time_step), 0]\n",
        "\t\tdataX.append(a)\n",
        "\t\tdataY.append(dataset[i + time_step, 0])\n",
        "\treturn numpy.array(dataX), numpy.array(dataY)\n"
      ],
      "metadata": {
        "id": "cuZGY9GZQ8fY"
      },
      "execution_count": 11,
      "outputs": []
    },
    {
      "cell_type": "code",
      "source": [
        "time_step = 100\n",
        "X_train, y_train = create_dataset(train_data, time_step)\n",
        "X_test, ytest = create_dataset(test_data, time_step)\n"
      ],
      "metadata": {
        "id": "arGdBCHsRBQj"
      },
      "execution_count": 12,
      "outputs": []
    },
    {
      "cell_type": "code",
      "source": [
        "X_train =X_train.reshape(X_train.shape[0],X_train.shape[1] , 1)\n",
        "X_test = X_test.reshape(X_test.shape[0],X_test.shape[1] , 1)\n",
        "from tensorflow.keras.models import Sequential\n",
        "from tensorflow.keras.layers import Dense\n",
        "from tensorflow.keras.layers import LSTM\n",
        "model=Sequential()\n",
        "model.add(LSTM(50,return_sequences=True,input_shape=(100,1)))\n",
        "model.add(LSTM(50,return_sequences=True))\n",
        "model.add(LSTM(50))\n",
        "model.add(Dense(1))\n",
        "model.compile(loss='mean_squared_error',optimizer='adam')\n",
        "model.summary()\n"
      ],
      "metadata": {
        "colab": {
          "base_uri": "https://localhost:8080/"
        },
        "id": "M_01_TG7RDrG",
        "outputId": "1702dc62-afca-4d1e-a6e2-59c9502db720"
      },
      "execution_count": 13,
      "outputs": [
        {
          "output_type": "stream",
          "name": "stdout",
          "text": [
            "Model: \"sequential\"\n",
            "_________________________________________________________________\n",
            " Layer (type)                Output Shape              Param #   \n",
            "=================================================================\n",
            " lstm (LSTM)                 (None, 100, 50)           10400     \n",
            "                                                                 \n",
            " lstm_1 (LSTM)               (None, 100, 50)           20200     \n",
            "                                                                 \n",
            " lstm_2 (LSTM)               (None, 50)                20200     \n",
            "                                                                 \n",
            " dense (Dense)               (None, 1)                 51        \n",
            "                                                                 \n",
            "=================================================================\n",
            "Total params: 50,851\n",
            "Trainable params: 50,851\n",
            "Non-trainable params: 0\n",
            "_________________________________________________________________\n"
          ]
        }
      ]
    },
    {
      "cell_type": "code",
      "source": [
        "model.fit(X_train,y_train,validation_data=(X_test,ytest),epochs=100,batch_size=64,verbose=1)\n"
      ],
      "metadata": {
        "colab": {
          "base_uri": "https://localhost:8080/"
        },
        "id": "1rx1OOioRLLX",
        "outputId": "2b07929d-f56a-44e2-9c0c-5ae05a49f10c"
      },
      "execution_count": 14,
      "outputs": [
        {
          "output_type": "stream",
          "name": "stdout",
          "text": [
            "Epoch 1/100\n",
            "12/12 [==============================] - 11s 358ms/step - loss: 0.0544 - val_loss: 0.0040\n",
            "Epoch 2/100\n",
            "12/12 [==============================] - 4s 328ms/step - loss: 0.0194 - val_loss: 0.0039\n",
            "Epoch 3/100\n",
            "12/12 [==============================] - 3s 231ms/step - loss: 0.0133 - val_loss: 9.3910e-04\n",
            "Epoch 4/100\n",
            "12/12 [==============================] - 3s 221ms/step - loss: 0.0117 - val_loss: 0.0012\n",
            "Epoch 5/100\n",
            "12/12 [==============================] - 3s 247ms/step - loss: 0.0096 - val_loss: 3.7753e-04\n",
            "Epoch 6/100\n",
            "12/12 [==============================] - 4s 328ms/step - loss: 0.0085 - val_loss: 3.7897e-04\n",
            "Epoch 7/100\n",
            "12/12 [==============================] - 3s 264ms/step - loss: 0.0077 - val_loss: 3.2972e-04\n",
            "Epoch 8/100\n",
            "12/12 [==============================] - 3s 239ms/step - loss: 0.0072 - val_loss: 7.4566e-04\n",
            "Epoch 9/100\n",
            "12/12 [==============================] - 3s 222ms/step - loss: 0.0061 - val_loss: 3.5619e-04\n",
            "Epoch 10/100\n",
            "12/12 [==============================] - 4s 309ms/step - loss: 0.0058 - val_loss: 3.2232e-04\n",
            "Epoch 11/100\n",
            "12/12 [==============================] - 3s 238ms/step - loss: 0.0051 - val_loss: 4.9515e-04\n",
            "Epoch 12/100\n",
            "12/12 [==============================] - 3s 232ms/step - loss: 0.0048 - val_loss: 3.6651e-04\n",
            "Epoch 13/100\n",
            "12/12 [==============================] - 3s 238ms/step - loss: 0.0046 - val_loss: 2.7909e-04\n",
            "Epoch 14/100\n",
            "12/12 [==============================] - 4s 332ms/step - loss: 0.0050 - val_loss: 2.9248e-04\n",
            "Epoch 15/100\n",
            "12/12 [==============================] - 3s 230ms/step - loss: 0.0059 - val_loss: 3.1853e-04\n",
            "Epoch 16/100\n",
            "12/12 [==============================] - 3s 236ms/step - loss: 0.0046 - val_loss: 2.9446e-04\n",
            "Epoch 17/100\n",
            "12/12 [==============================] - 3s 231ms/step - loss: 0.0047 - val_loss: 4.3214e-04\n",
            "Epoch 18/100\n",
            "12/12 [==============================] - 4s 329ms/step - loss: 0.0036 - val_loss: 2.5789e-04\n",
            "Epoch 19/100\n",
            "12/12 [==============================] - 3s 231ms/step - loss: 0.0035 - val_loss: 2.7344e-04\n",
            "Epoch 20/100\n",
            "12/12 [==============================] - 3s 230ms/step - loss: 0.0033 - val_loss: 2.6928e-04\n",
            "Epoch 21/100\n",
            "12/12 [==============================] - 3s 254ms/step - loss: 0.0033 - val_loss: 2.3553e-04\n",
            "Epoch 22/100\n",
            "12/12 [==============================] - 4s 333ms/step - loss: 0.0033 - val_loss: 3.7594e-04\n",
            "Epoch 23/100\n",
            "12/12 [==============================] - 3s 234ms/step - loss: 0.0028 - val_loss: 3.4150e-04\n",
            "Epoch 24/100\n",
            "12/12 [==============================] - 3s 238ms/step - loss: 0.0027 - val_loss: 2.6440e-04\n",
            "Epoch 25/100\n",
            "12/12 [==============================] - 3s 257ms/step - loss: 0.0027 - val_loss: 2.4882e-04\n",
            "Epoch 26/100\n",
            "12/12 [==============================] - 4s 302ms/step - loss: 0.0022 - val_loss: 2.5242e-04\n",
            "Epoch 27/100\n",
            "12/12 [==============================] - 3s 238ms/step - loss: 0.0024 - val_loss: 3.0736e-04\n",
            "Epoch 28/100\n",
            "12/12 [==============================] - 3s 230ms/step - loss: 0.0022 - val_loss: 2.4721e-04\n",
            "Epoch 29/100\n",
            "12/12 [==============================] - 3s 266ms/step - loss: 0.0030 - val_loss: 2.7310e-04\n",
            "Epoch 30/100\n",
            "12/12 [==============================] - 4s 285ms/step - loss: 0.0026 - val_loss: 3.1717e-04\n",
            "Epoch 31/100\n",
            "12/12 [==============================] - 3s 232ms/step - loss: 0.0022 - val_loss: 3.9197e-04\n",
            "Epoch 32/100\n",
            "12/12 [==============================] - 3s 231ms/step - loss: 0.0021 - val_loss: 2.4198e-04\n",
            "Epoch 33/100\n",
            "12/12 [==============================] - 3s 279ms/step - loss: 0.0023 - val_loss: 2.4259e-04\n",
            "Epoch 34/100\n",
            "12/12 [==============================] - 3s 232ms/step - loss: 0.0030 - val_loss: 2.6624e-04\n",
            "Epoch 35/100\n",
            "12/12 [==============================] - 3s 238ms/step - loss: 0.0050 - val_loss: 2.7332e-04\n",
            "Epoch 36/100\n",
            "12/12 [==============================] - 3s 242ms/step - loss: 0.0050 - val_loss: 6.9674e-04\n",
            "Epoch 37/100\n",
            "12/12 [==============================] - 3s 295ms/step - loss: 0.0030 - val_loss: 3.5283e-04\n",
            "Epoch 38/100\n",
            "12/12 [==============================] - 3s 233ms/step - loss: 0.0027 - val_loss: 2.5749e-04\n",
            "Epoch 39/100\n",
            "12/12 [==============================] - 3s 231ms/step - loss: 0.0023 - val_loss: 2.6712e-04\n",
            "Epoch 40/100\n",
            "12/12 [==============================] - 3s 238ms/step - loss: 0.0022 - val_loss: 2.7732e-04\n",
            "Epoch 41/100\n",
            "12/12 [==============================] - 3s 294ms/step - loss: 0.0022 - val_loss: 2.3143e-04\n",
            "Epoch 42/100\n",
            "12/12 [==============================] - 3s 231ms/step - loss: 0.0019 - val_loss: 2.2370e-04\n",
            "Epoch 43/100\n",
            "12/12 [==============================] - 3s 230ms/step - loss: 0.0020 - val_loss: 3.0856e-04\n",
            "Epoch 44/100\n",
            "12/12 [==============================] - 3s 228ms/step - loss: 0.0023 - val_loss: 3.0086e-04\n",
            "Epoch 45/100\n",
            "12/12 [==============================] - 3s 270ms/step - loss: 0.0020 - val_loss: 2.2748e-04\n",
            "Epoch 46/100\n",
            "12/12 [==============================] - 3s 280ms/step - loss: 0.0020 - val_loss: 2.9130e-04\n",
            "Epoch 47/100\n",
            "12/12 [==============================] - 3s 240ms/step - loss: 0.0022 - val_loss: 2.5023e-04\n",
            "Epoch 48/100\n",
            "12/12 [==============================] - 3s 229ms/step - loss: 0.0019 - val_loss: 2.8172e-04\n",
            "Epoch 49/100\n",
            "12/12 [==============================] - 3s 280ms/step - loss: 0.0017 - val_loss: 2.5015e-04\n",
            "Epoch 50/100\n",
            "12/12 [==============================] - 3s 236ms/step - loss: 0.0015 - val_loss: 2.3628e-04\n",
            "Epoch 51/100\n",
            "12/12 [==============================] - 3s 225ms/step - loss: 0.0018 - val_loss: 2.5708e-04\n",
            "Epoch 52/100\n",
            "12/12 [==============================] - 3s 259ms/step - loss: 0.0020 - val_loss: 2.4404e-04\n",
            "Epoch 53/100\n",
            "12/12 [==============================] - 4s 305ms/step - loss: 0.0014 - val_loss: 2.8713e-04\n",
            "Epoch 54/100\n",
            "12/12 [==============================] - 3s 255ms/step - loss: 0.0025 - val_loss: 2.6337e-04\n",
            "Epoch 55/100\n",
            "12/12 [==============================] - 3s 228ms/step - loss: 0.0016 - val_loss: 2.5222e-04\n",
            "Epoch 56/100\n",
            "12/12 [==============================] - 3s 232ms/step - loss: 0.0016 - val_loss: 2.4327e-04\n",
            "Epoch 57/100\n",
            "12/12 [==============================] - 4s 322ms/step - loss: 0.0016 - val_loss: 2.3252e-04\n",
            "Epoch 58/100\n",
            "12/12 [==============================] - 3s 229ms/step - loss: 0.0013 - val_loss: 2.5230e-04\n",
            "Epoch 59/100\n",
            "12/12 [==============================] - 3s 254ms/step - loss: 0.0014 - val_loss: 2.4300e-04\n",
            "Epoch 60/100\n",
            "12/12 [==============================] - 3s 232ms/step - loss: 0.0015 - val_loss: 2.6552e-04\n",
            "Epoch 61/100\n",
            "12/12 [==============================] - 4s 311ms/step - loss: 0.0014 - val_loss: 2.5902e-04\n",
            "Epoch 62/100\n",
            "12/12 [==============================] - 3s 230ms/step - loss: 0.0029 - val_loss: 2.4545e-04\n",
            "Epoch 63/100\n",
            "12/12 [==============================] - 3s 256ms/step - loss: 0.0018 - val_loss: 4.4085e-04\n",
            "Epoch 64/100\n",
            "12/12 [==============================] - 3s 241ms/step - loss: 0.0026 - val_loss: 3.1955e-04\n",
            "Epoch 65/100\n",
            "12/12 [==============================] - 4s 331ms/step - loss: 0.0016 - val_loss: 2.3296e-04\n",
            "Epoch 66/100\n",
            "12/12 [==============================] - 3s 234ms/step - loss: 0.0020 - val_loss: 4.3707e-04\n",
            "Epoch 67/100\n",
            "12/12 [==============================] - 3s 232ms/step - loss: 0.0017 - val_loss: 2.4371e-04\n",
            "Epoch 68/100\n",
            "12/12 [==============================] - 3s 230ms/step - loss: 0.0017 - val_loss: 2.3951e-04\n",
            "Epoch 69/100\n",
            "12/12 [==============================] - 4s 335ms/step - loss: 0.0016 - val_loss: 2.9093e-04\n",
            "Epoch 70/100\n",
            "12/12 [==============================] - 3s 232ms/step - loss: 0.0015 - val_loss: 2.3582e-04\n",
            "Epoch 71/100\n",
            "12/12 [==============================] - 3s 238ms/step - loss: 0.0013 - val_loss: 2.3573e-04\n",
            "Epoch 72/100\n",
            "12/12 [==============================] - 3s 234ms/step - loss: 0.0014 - val_loss: 2.4352e-04\n",
            "Epoch 73/100\n",
            "12/12 [==============================] - 4s 312ms/step - loss: 0.0014 - val_loss: 2.2865e-04\n",
            "Epoch 74/100\n",
            "12/12 [==============================] - 3s 256ms/step - loss: 0.0014 - val_loss: 2.4659e-04\n",
            "Epoch 75/100\n",
            "12/12 [==============================] - 3s 232ms/step - loss: 0.0017 - val_loss: 2.5209e-04\n",
            "Epoch 76/100\n",
            "12/12 [==============================] - 3s 231ms/step - loss: 0.0028 - val_loss: 3.9156e-04\n",
            "Epoch 77/100\n",
            "12/12 [==============================] - 4s 326ms/step - loss: 0.0031 - val_loss: 0.0011\n",
            "Epoch 78/100\n",
            "12/12 [==============================] - 3s 235ms/step - loss: 0.0023 - val_loss: 2.7017e-04\n",
            "Epoch 79/100\n",
            "12/12 [==============================] - 3s 239ms/step - loss: 0.0020 - val_loss: 4.2688e-04\n",
            "Epoch 80/100\n",
            "12/12 [==============================] - 3s 259ms/step - loss: 0.0020 - val_loss: 5.5897e-04\n",
            "Epoch 81/100\n",
            "12/12 [==============================] - 4s 299ms/step - loss: 0.0016 - val_loss: 2.3100e-04\n",
            "Epoch 82/100\n",
            "12/12 [==============================] - 3s 233ms/step - loss: 0.0016 - val_loss: 2.3475e-04\n",
            "Epoch 83/100\n",
            "12/12 [==============================] - 3s 240ms/step - loss: 0.0016 - val_loss: 2.3317e-04\n",
            "Epoch 84/100\n",
            "12/12 [==============================] - 3s 283ms/step - loss: 0.0017 - val_loss: 2.2804e-04\n",
            "Epoch 85/100\n",
            "12/12 [==============================] - 3s 279ms/step - loss: 0.0019 - val_loss: 2.8957e-04\n",
            "Epoch 86/100\n",
            "12/12 [==============================] - 3s 231ms/step - loss: 0.0015 - val_loss: 2.2082e-04\n",
            "Epoch 87/100\n",
            "12/12 [==============================] - 3s 235ms/step - loss: 0.0026 - val_loss: 2.7058e-04\n",
            "Epoch 88/100\n",
            "12/12 [==============================] - 3s 292ms/step - loss: 0.0020 - val_loss: 2.7302e-04\n",
            "Epoch 89/100\n",
            "12/12 [==============================] - 3s 237ms/step - loss: 0.0019 - val_loss: 2.7108e-04\n",
            "Epoch 90/100\n",
            "12/12 [==============================] - 3s 236ms/step - loss: 0.0019 - val_loss: 2.2129e-04\n",
            "Epoch 91/100\n",
            "12/12 [==============================] - 3s 261ms/step - loss: 0.0014 - val_loss: 2.2346e-04\n",
            "Epoch 92/100\n",
            "12/12 [==============================] - 4s 323ms/step - loss: 0.0016 - val_loss: 2.2397e-04\n",
            "Epoch 93/100\n",
            "12/12 [==============================] - 3s 236ms/step - loss: 0.0015 - val_loss: 3.3126e-04\n",
            "Epoch 94/100\n",
            "12/12 [==============================] - 3s 232ms/step - loss: 0.0019 - val_loss: 3.6981e-04\n",
            "Epoch 95/100\n",
            "12/12 [==============================] - 3s 261ms/step - loss: 0.0017 - val_loss: 2.6325e-04\n",
            "Epoch 96/100\n",
            "12/12 [==============================] - 4s 335ms/step - loss: 0.0022 - val_loss: 2.2328e-04\n",
            "Epoch 97/100\n",
            "12/12 [==============================] - 3s 235ms/step - loss: 0.0021 - val_loss: 2.5327e-04\n",
            "Epoch 98/100\n",
            "12/12 [==============================] - 3s 232ms/step - loss: 0.0046 - val_loss: 6.1998e-04\n",
            "Epoch 99/100\n",
            "12/12 [==============================] - 3s 238ms/step - loss: 0.0051 - val_loss: 3.2858e-04\n",
            "Epoch 100/100\n",
            "12/12 [==============================] - 4s 314ms/step - loss: 0.0044 - val_loss: 0.0011\n"
          ]
        },
        {
          "output_type": "execute_result",
          "data": {
            "text/plain": [
              "<keras.callbacks.History at 0x7f966c8347c0>"
            ]
          },
          "metadata": {},
          "execution_count": 14
        }
      ]
    },
    {
      "cell_type": "markdown",
      "source": [
        "<a name=\"sortdate\"></a>\n",
        "\n",
        "### Sorting dataset by date format"
      ],
      "metadata": {
        "id": "ay0tR27cN10z"
      }
    },
    {
      "cell_type": "code",
      "source": [
        "import tensorflow as tf\n",
        "train_predict=model.predict(X_train)\n",
        "test_predict=model.predict(X_test)\n",
        "train_predict=scaler.inverse_transform(train_predict)\n",
        "test_predict=scaler.inverse_transform(test_predict)\n",
        "import math\n",
        "from sklearn.metrics import mean_squared_error\n",
        "math.sqrt(mean_squared_error(y_train,train_predict))\n",
        "math.sqrt(mean_squared_error(ytest,test_predict))\n",
        "look_back=100\n",
        "trainPredictPlot = numpy.empty_like(df1)\n",
        "trainPredictPlot[:, :] = np.nan\n",
        "trainPredictPlot[look_back:len(train_predict)+look_back, :] = train_predict\n",
        "\n",
        "testPredictPlot = numpy.empty_like(df1)\n",
        "testPredictPlot[:, :] = numpy.nan\n",
        "testPredictPlot[len(train_predict)+(look_back*2)+1:len(df1)-1, :] = test_predict\n",
        "\n",
        "plt.plot(scaler.inverse_transform(df1))\n",
        "plt.plot(trainPredictPlot)\n",
        "plt.plot(testPredictPlot)\n",
        "plt.legend()\n",
        "plt.show()\n"
      ],
      "metadata": {
        "colab": {
          "base_uri": "https://localhost:8080/",
          "height": 502
        },
        "id": "rm7UVG3RSOLE",
        "outputId": "7a71050f-15b5-4c89-cd4f-f049cbc00d75"
      },
      "execution_count": 21,
      "outputs": [
        {
          "output_type": "stream",
          "name": "stdout",
          "text": [
            "23/23 [==============================] - 1s 46ms/step\n",
            "11/11 [==============================] - 1s 48ms/step\n"
          ]
        },
        {
          "output_type": "stream",
          "name": "stderr",
          "text": [
            "WARNING:matplotlib.legend:No artists with labels found to put in legend.  Note that artists whose label start with an underscore are ignored when legend() is called with no argument.\n"
          ]
        },
        {
          "output_type": "display_data",
          "data": {
            "text/plain": [
              "<Figure size 640x480 with 1 Axes>"
            ],
            "image/png": "[encoded data removed]"
          },
          "metadata": {}
        }
      ]
    },
    {
      "cell_type": "code",
      "source": [],
      "metadata": {
        "id": "9soi8uuZTThy"
      },
      "execution_count": 19,
      "outputs": []
    }
  ]
}